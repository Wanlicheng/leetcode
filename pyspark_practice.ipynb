{
 "metadata": {
  "language_info": {
   "codemirror_mode": {
    "name": "ipython",
    "version": 3
   },
   "file_extension": ".py",
   "mimetype": "text/x-python",
   "name": "python",
   "nbconvert_exporter": "python",
   "pygments_lexer": "ipython3",
   "version": "3.7.9-final"
  },
  "orig_nbformat": 2,
  "kernelspec": {
   "name": "python3",
   "display_name": "Python 3.7.9 64-bit ('tf': conda)",
   "metadata": {
    "interpreter": {
     "hash": "8fe491d9a051ea1ca995166637a84c22bdd6a9d07582783b76a7ae7da362e7cf"
    }
   }
  }
 },
 "nbformat": 4,
 "nbformat_minor": 2,
 "cells": [
  {
   "source": [
    "from pyspark import SparkContext"
   ],
   "cell_type": "code",
   "metadata": {},
   "execution_count": 1,
   "outputs": []
  },
  {
   "cell_type": "code",
   "execution_count": null,
   "metadata": {},
   "outputs": [],
   "source": [
    "import random"
   ]
  },
  {
   "cell_type": "code",
   "execution_count": 55,
   "metadata": {},
   "outputs": [],
   "source": [
    "a=[-1,1,1,2,3,4,5,6,8,4,9]"
   ]
  },
  {
   "cell_type": "code",
   "execution_count": 50,
   "metadata": {},
   "outputs": [],
   "source": [
    "a_max=max(a)\n",
    "target_list=[1]\n",
    "while target_list[-1]<= a_max:\n",
    "    target_list.append(2*target_list[-1])"
   ]
  },
  {
   "cell_type": "code",
   "execution_count": 58,
   "metadata": {},
   "outputs": [],
   "source": [
    "import collections\n",
    "d=collections.Counter()\n",
    "ans=0\n",
    "\n",
    "pairs=[]\n",
    "for e in a:\n",
    "    for cur in target_list: #O(logmax(a))\n",
    "        if cur-e in d:\n",
    "            pairs.append([cur-e,e])\n",
    "            ans+=d[cur-e]\n",
    "    d[e]+=1\n"
   ]
  },
  {
   "cell_type": "code",
   "execution_count": 59,
   "metadata": {},
   "outputs": [
    {
     "output_type": "execute_result",
     "data": {
      "text/plain": [
       "[[1, 1], [-1, 2], [-1, 3], [1, 3], [-1, 5], [3, 5], [2, 6], [4, 4], [-1, 9]]"
      ]
     },
     "metadata": {},
     "execution_count": 59
    }
   ],
   "source": [
    "pairs"
   ]
  },
  {
   "cell_type": "code",
   "execution_count": 60,
   "metadata": {},
   "outputs": [
    {
     "output_type": "execute_result",
     "data": {
      "text/plain": [
       "10"
      ]
     },
     "metadata": {},
     "execution_count": 60
    }
   ],
   "source": [
    "with recursive seq_num as\n",
    "(select 0 as transactions_count\n",
    " union all\n",
    " select transactions_count+1\n",
    " from seq_num \n",
    " where transactions_count < (select count(*) as transactions_count\n",
    "                             from Transactions\n",
    "                             group by user_id, transaction_date\n",
    "                             order by transactions_count desc limit 1)\n",
    "),\n",
    "\n",
    "temp as\n",
    "(\n",
    "    select d.user_id, \n",
    "            c.transaction_date, \n",
    "            count(case when c.transaction_date is null then NULL else c.transaction_date end) as transactions_count \n",
    "    from Transactions c right join visits d \n",
    "                            on c.user_id=d.user_id and d.visit_date=c.transaction_date\n",
    "    group by d.user_id, d.visit_date\n",
    ")\n",
    "\n",
    "select  seq_num.transactions_count, count(temp.transactions_count) as visits_count\n",
    "from \n",
    "    temp \n",
    "    right join \n",
    "    seq_num on temp.transactions_count=seq_num.transactions_count \n",
    "group by  seq_num.transactions_count\n",
    "order by 1"
   ]
  },
  {
   "cell_type": "code",
   "execution_count": 62,
   "metadata": {},
   "outputs": [],
   "source": [
    "import re\n",
    "email='leet.d@gmail.com'\n",
    "email=re.sub(email.split('@')[0],r'\\+|\\.','')+ '@'+email.split('@')[1]\n"
   ]
  },
  {
   "cell_type": "code",
   "execution_count": 63,
   "metadata": {},
   "outputs": [
    {
     "output_type": "execute_result",
     "data": {
      "text/plain": [
       "'@gmail.com'"
      ]
     },
     "metadata": {},
     "execution_count": 63
    }
   ],
   "source": [
    "email"
   ]
  },
  {
   "cell_type": "code",
   "execution_count": 64,
   "metadata": {},
   "outputs": [
    {
     "output_type": "execute_result",
     "data": {
      "text/plain": [
       "'\\\\+|\\\\.'"
      ]
     },
     "metadata": {},
     "execution_count": 64
    }
   ],
   "source": [
    "re.sub(email.split('@')[0],r'\\+|\\.','')"
   ]
  },
  {
   "cell_type": "code",
   "execution_count": 65,
   "metadata": {},
   "outputs": [
    {
     "output_type": "execute_result",
     "data": {
      "text/plain": [
       "'a'"
      ]
     },
     "metadata": {},
     "execution_count": 65
    }
   ],
   "source": [
    "re.sub(r'\\+|\\.','','..a')"
   ]
  },
  {
   "cell_type": "code",
   "execution_count": null,
   "metadata": {},
   "outputs": [],
   "source": []
  }
 ]
}