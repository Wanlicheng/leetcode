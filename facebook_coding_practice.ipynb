{
 "cells": [
  {
   "cell_type": "code",
   "execution_count": null,
   "metadata": {},
   "outputs": [
    {
     "name": "stdout",
     "output_type": "stream",
     "text": [
      "800\n",
      "800\n",
      "800\n",
      "800\n",
      "799\n",
      "799\n",
      "799\n",
      "799\n",
      "798\n",
      "798\n",
      "798\n",
      "798\n",
      "797\n",
      "797\n",
      "797\n",
      "797\n",
      "796\n",
      "796\n",
      "796\n",
      "796\n",
      "795\n",
      "795\n",
      "795\n",
      "795\n",
      "794\n",
      "794\n",
      "794\n",
      "794\n",
      "793\n",
      "793\n",
      "793\n",
      "793\n",
      "792\n",
      "792\n",
      "792\n",
      "792\n",
      "791\n",
      "791\n",
      "791\n",
      "791\n",
      "790\n",
      "790\n",
      "790\n",
      "790\n",
      "789\n",
      "789\n",
      "789\n",
      "789\n",
      "788\n",
      "788\n",
      "788\n",
      "788\n"
     ]
    }
   ],
   "source": [
    "%%time\n",
    "\n",
    "def get_min_time(duration=10):\n",
    "\n",
    "    d_time={'k1':2,'k2':3,'k3':4}\n",
    "    times=[2,3,4]\n",
    "    intervals=[5,7,9]\n",
    "    d_interval={'k1':5,'k2':7,'k3':9}\n",
    "    ans=duration//intervals[0]*times[2]## a workable value\n",
    "    dp={}\n",
    "\n",
    "    def bt(last_check=[0,0,0],cur_day=1,cur_hours=0,duration=duration):\n",
    "        nonlocal ans\n",
    "        if cur_day>duration:\n",
    "            print(ans)\n",
    "            ans=min(ans,cur_hours)\n",
    "            return\n",
    "        \n",
    "        if max( (duration-last_check[i])//intervals[i]*times[i]+cur_hours for i in range(3))>=ans: return\n",
    "        if tuple(last_check+[cur_day]) in dp and cur_hours>=dp[tuple(last_check+[cur_day])]:\n",
    "            return\n",
    "        else:\n",
    "            dp[tuple(last_check+[cur_day])]=cur_hours\n",
    "            \n",
    "\n",
    "        if cur_day-last_check[2]>=d_interval['k3']:\n",
    "            new_check=[cur_day]*3\n",
    "            bt(new_check,cur_day+1,cur_hours+d_time['k3'])\n",
    "\n",
    "        elif cur_day-last_check[1]>=d_interval['k2']:\n",
    "            new_check=[cur_day]*3\n",
    "            bt(new_check,cur_day+1,cur_hours+d_time['k3'])\n",
    "            new_check=[cur_day]*2+last_check[2:]\n",
    "            bt(new_check,cur_day+1,cur_hours+d_time['k2'])\n",
    "        elif cur_day-last_check[0]>=d_interval['k1']:\n",
    "            new_check=[cur_day]*3\n",
    "            bt(new_check,cur_day+1,cur_hours+d_time['k3'])\n",
    "\n",
    "            new_check=[cur_day]*2+last_check[2:]\n",
    "            bt(new_check,cur_day+1,cur_hours+d_time['k2'])\n",
    "            new_check=[cur_day]*1+last_check[1:]\n",
    "            bt(new_check,cur_day+1,cur_hours+d_time['k1'])\n",
    "        else:\n",
    "            new_check=[cur_day]*3\n",
    "            bt(new_check,cur_day+1,cur_hours+d_time['k3'])\n",
    "\n",
    "            new_check=[cur_day]*2+last_check[2:]\n",
    "            bt(new_check,cur_day+1,cur_hours+d_time['k2'])\n",
    "            new_check=[cur_day]*1+last_check[1:]\n",
    "            bt(new_check,cur_day+1,cur_hours+d_time['k1'])  \n",
    "            \n",
    "            bt(last_check,cur_day+1,cur_hours)\n",
    "            \n",
    "    bt()\n",
    "    #print(dp)\n",
    "    return ans\n",
    "\n",
    "ans=get_min_time(1000)\n",
    "print('\\n final ans is %d \\n\\n\\n'%ans)"
   ]
  },
  {
   "cell_type": "code",
   "execution_count": 42,
   "metadata": {},
   "outputs": [
    {
     "name": "stdout",
     "output_type": "stream",
     "text": [
      "16\n",
      "16\n",
      "16\n",
      "16\n",
      "15\n",
      "15\n",
      "15\n",
      "15\n",
      "14\n",
      "14\n",
      "14\n",
      "14\n",
      "CPU times: user 9.41 ms, sys: 2.48 ms, total: 11.9 ms\n",
      "Wall time: 11.7 ms\n"
     ]
    }
   ],
   "source": [
    " %%time\n",
    "ans=get_min_time(20)"
   ]
  },
  {
   "cell_type": "code",
   "execution_count": 43,
   "metadata": {},
   "outputs": [
    {
     "data": {
      "text/plain": [
       "13"
      ]
     },
     "execution_count": 43,
     "metadata": {},
     "output_type": "execute_result"
    }
   ],
   "source": [
    "ans"
   ]
  },
  {
   "cell_type": "code",
   "execution_count": null,
   "metadata": {},
   "outputs": [],
   "source": []
  }
 ],
 "metadata": {
  "kernelspec": {
   "display_name": "Python 3",
   "language": "python",
   "name": "python3"
  },
  "language_info": {
   "codemirror_mode": {
    "name": "ipython",
    "version": 3
   },
   "file_extension": ".py",
   "mimetype": "text/x-python",
   "name": "python",
   "nbconvert_exporter": "python",
   "pygments_lexer": "ipython3",
   "version": "3.8.5"
  }
 },
 "nbformat": 4,
 "nbformat_minor": 4
}
