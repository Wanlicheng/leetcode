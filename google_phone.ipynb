{
 "cells": [
  {
   "cell_type": "raw",
   "id": "offshore-michael",
   "metadata": {},
   "source": [
    "给一个Class，里面只有一个method，会return stream里下一个字符，如果没有字符了就返回Null。\n",
    "Stream里面有开括号和闭括号，两个match的括号里面的非括号内容为一组，请打印出所有组来。\n",
    "比如Stream是d(ca(der)fd(h)f)fk(ab)，打印\n",
    "caderfdhf\n",
    "der\n",
    "h\n",
    "ab\n",
    "\n",
    "Follo‍‌‍‍‌‌‌‍‌‍‌‍‌‌‌‍‍‍‍w up: 如何优化"
   ]
  },
  {
   "cell_type": "code",
   "execution_count": 14,
   "id": "metropolitan-subscription",
   "metadata": {},
   "outputs": [],
   "source": [
    "import collections\n",
    "class stream():\n",
    "    def __init__(self,long_string):\n",
    "        self.str=collections.deque(list(long_string))\n",
    "    def next(self):\n",
    "        if self.str:\n",
    "            return self.str.popleft()\n",
    "    def has_next(self):\n",
    "        return len(self.str)>0\n",
    "def print_inside(long_stream):\n",
    "    ans=[]\n",
    "    rl=[]\n",
    "    while long_stream.has_next():\n",
    "        e=long_stream.next()\n",
    "        if e=='(':\n",
    "            rl.append('')\n",
    "        elif e==')':\n",
    "            \n",
    "            ans.append(rl.pop())\n",
    "        else:\n",
    "            for i in range(len(rl)):\n",
    "                rl[i]+=e\n",
    "    return ans\n",
    "long_stream=stream('d(ca(der)fd(h)f)fk(ab)')\n",
    "print_inside(long_stream)    "
   ]
  },
  {
   "cell_type": "code",
   "execution_count": 29,
   "id": "elementary-nowhere",
   "metadata": {},
   "outputs": [],
   "source": []
  },
  {
   "cell_type": "code",
   "execution_count": 32,
   "id": "classical-salon",
   "metadata": {},
   "outputs": [],
   "source": [
    "\n",
    "    \n",
    "    \n",
    "    "
   ]
  },
  {
   "cell_type": "code",
   "execution_count": 33,
   "id": "wrong-publicity",
   "metadata": {},
   "outputs": [
    {
     "data": {
      "text/plain": [
       "['der', 'h', 'caderfdhf', 'ab']"
      ]
     },
     "execution_count": 33,
     "metadata": {},
     "output_type": "execute_result"
    }
   ],
   "source": []
  },
  {
   "cell_type": "code",
   "execution_count": null,
   "id": "occupational-tsunami",
   "metadata": {},
   "outputs": [],
   "source": []
  }
 ],
 "metadata": {
  "kernelspec": {
   "display_name": "Python 3",
   "language": "python",
   "name": "python3"
  },
  "language_info": {
   "codemirror_mode": {
    "name": "ipython",
    "version": 3
   },
   "file_extension": ".py",
   "mimetype": "text/x-python",
   "name": "python",
   "nbconvert_exporter": "python",
   "pygments_lexer": "ipython3",
   "version": "3.7.9"
  }
 },
 "nbformat": 4,
 "nbformat_minor": 5
}
