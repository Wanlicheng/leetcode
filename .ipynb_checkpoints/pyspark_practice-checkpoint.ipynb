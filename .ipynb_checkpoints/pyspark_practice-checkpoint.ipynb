{
 "cells": [
  {
   "cell_type": "code",
   "execution_count": 3,
   "metadata": {},
   "outputs": [],
   "source": [
    "from pyspark import SparkContext\n",
    "sc=SparkContext(master='local[2]')"
   ]
  },
  {
   "cell_type": "code",
   "execution_count": 4,
   "metadata": {},
   "outputs": [
    {
     "data": {
      "text/plain": [
       "'2.4.6'"
      ]
     },
     "execution_count": 4,
     "metadata": {},
     "output_type": "execute_result"
    }
   ],
   "source": [
    "sc.version\n",
    "sc.pythonVe\n"
   ]
  },
  {
   "cell_type": "code",
   "execution_count": 55,
   "metadata": {},
   "outputs": [],
   "source": [
    "a=[-1,1,1,2,3,4,5,6,8,4,9]"
   ]
  },
  {
   "cell_type": "code",
   "execution_count": 50,
   "metadata": {},
   "outputs": [],
   "source": [
    "a_max=max(a)\n",
    "target_list=[1]\n",
    "while target_list[-1]<= a_max:\n",
    "    target_list.append(2*target_list[-1])"
   ]
  },
  {
   "cell_type": "code",
   "execution_count": 58,
   "metadata": {},
   "outputs": [],
   "source": [
    "import collections\n",
    "d=collections.Counter()\n",
    "ans=0\n",
    "\n",
    "pairs=[]\n",
    "for e in a:\n",
    "    for cur in target_list: #O(logmax(a))\n",
    "        if cur-e in d:\n",
    "            pairs.append([cur-e,e])\n",
    "            ans+=d[cur-e]\n",
    "    d[e]+=1\n"
   ]
  },
  {
   "cell_type": "code",
   "execution_count": 59,
   "metadata": {},
   "outputs": [
    {
     "data": {
      "text/plain": [
       "[[1, 1], [-1, 2], [-1, 3], [1, 3], [-1, 5], [3, 5], [2, 6], [4, 4], [-1, 9]]"
      ]
     },
     "execution_count": 59,
     "metadata": {},
     "output_type": "execute_result"
    }
   ],
   "source": [
    "pairs"
   ]
  },
  {
   "cell_type": "code",
   "execution_count": 60,
   "metadata": {},
   "outputs": [
    {
     "data": {
      "text/plain": [
       "10"
      ]
     },
     "execution_count": 60,
     "metadata": {},
     "output_type": "execute_result"
    }
   ],
   "source": [
    "with recursive seq_num as\n",
    "(select 0 as transactions_count\n",
    " union all\n",
    " select transactions_count+1\n",
    " from seq_num \n",
    " where transactions_count < (select count(*) as transactions_count\n",
    "                             from Transactions\n",
    "                             group by user_id, transaction_date\n",
    "                             order by transactions_count desc limit 1)\n",
    "),\n",
    "\n",
    "temp as\n",
    "(\n",
    "    select d.user_id, \n",
    "            c.transaction_date, \n",
    "            count(case when c.transaction_date is null then NULL else c.transaction_date end) as transactions_count \n",
    "    from Transactions c right join visits d \n",
    "                            on c.user_id=d.user_id and d.visit_date=c.transaction_date\n",
    "    group by d.user_id, d.visit_date\n",
    ")\n",
    "\n",
    "select  seq_num.transactions_count, count(temp.transactions_count) as visits_count\n",
    "from \n",
    "    temp \n",
    "    right join \n",
    "    seq_num on temp.transactions_count=seq_num.transactions_count \n",
    "group by  seq_num.transactions_count\n",
    "order by 1"
   ]
  },
  {
   "cell_type": "code",
   "execution_count": 62,
   "metadata": {},
   "outputs": [],
   "source": [
    "import re\n",
    "email='leet.d@gmail.com'\n",
    "email=re.sub(email.split('@')[0],r'\\+|\\.','')+ '@'+email.split('@')[1]\n"
   ]
  },
  {
   "cell_type": "code",
   "execution_count": 63,
   "metadata": {},
   "outputs": [
    {
     "data": {
      "text/plain": [
       "'@gmail.com'"
      ]
     },
     "execution_count": 63,
     "metadata": {},
     "output_type": "execute_result"
    }
   ],
   "source": [
    "email"
   ]
  },
  {
   "cell_type": "code",
   "execution_count": 64,
   "metadata": {},
   "outputs": [
    {
     "data": {
      "text/plain": [
       "'\\\\+|\\\\.'"
      ]
     },
     "execution_count": 64,
     "metadata": {},
     "output_type": "execute_result"
    }
   ],
   "source": [
    "re.sub(email.split('@')[0],r'\\+|\\.','')"
   ]
  },
  {
   "cell_type": "code",
   "execution_count": 65,
   "metadata": {},
   "outputs": [
    {
     "data": {
      "text/plain": [
       "'a'"
      ]
     },
     "execution_count": 65,
     "metadata": {},
     "output_type": "execute_result"
    }
   ],
   "source": [
    "re.sub(r'\\+|\\.','','..a')"
   ]
  },
  {
   "cell_type": "code",
   "execution_count": null,
   "metadata": {},
   "outputs": [],
   "source": []
  }
 ],
 "metadata": {
  "kernelspec": {
   "display_name": "Python 3",
   "language": "python",
   "name": "python3"
  },
  "language_info": {
   "codemirror_mode": {
    "name": "ipython",
    "version": 3
   },
   "file_extension": ".py",
   "mimetype": "text/x-python",
   "name": "python",
   "nbconvert_exporter": "python",
   "pygments_lexer": "ipython3",
   "version": "3.7.9"
  }
 },
 "nbformat": 4,
 "nbformat_minor": 2
}
