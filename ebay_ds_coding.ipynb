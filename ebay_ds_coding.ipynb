{
 "metadata": {
  "language_info": {
   "codemirror_mode": {
    "name": "ipython",
    "version": 3
   },
   "file_extension": ".py",
   "mimetype": "text/x-python",
   "name": "python",
   "nbconvert_exporter": "python",
   "pygments_lexer": "ipython3",
   "version": "3.8.5-final"
  },
  "orig_nbformat": 2,
  "kernelspec": {
   "name": "python3",
   "display_name": "Python 3",
   "language": "python"
  }
 },
 "nbformat": 4,
 "nbformat_minor": 2,
 "cells": [
  {
   "source": [
    "\n",
    "powerOfTwoSum:\n",
    "Given an array of integers, your task is to find the number of pairs of distinct indices (i,j) such\n",
    "that i<j and the sum a[i] + a[j] is equal to a power of two"
   ],
   "cell_type": "markdown",
   "metadata": {}
  },
  {
   "source": [
    "## space complexity is O(n), time complexity is O(n*logmaxa)\n",
    "import collections\n",
    "a=[1,2,3,4,5,6]\n",
    "maxa=max(a)\n",
    "possible_power=[1]\n",
    "while possible_power[-1]<2*maxa:\n",
    "    possible_power.append(possible_power[-1]*2)\n",
    "d =collections.defaultdict(list)\n",
    "ans=[]\n",
    "for i,e in enumerate(a):\n",
    "    for total in possible_power:\n",
    "        if total-e in d:\n",
    "            for v in d[total-e]:\n",
    "                ans.append([v,i])\n",
    "    d[e].append(i)\n",
    "        \n"
   ],
   "cell_type": "code",
   "metadata": {},
   "execution_count": null,
   "outputs": []
  },
  {
   "source": [
    "remove exact one digit char from string s or t, so that s < t; input: String s1,s2 (lower case letters and digits)\n",
    "output: number of ways to remove the digit char."
   ],
   "cell_type": "markdown",
   "metadata": {}
  },
  {
   "cell_type": "code",
   "execution_count": 93,
   "metadata": {},
   "outputs": [],
   "source": [
    "def remove_1(s,t):\n",
    "    if not s and not t: return 0\n",
    "    elif not s and t: return len(t)-1\n",
    "    elif s and not t: return 0\n",
    "    else:\n",
    "        if s[0]<t[0]:\n",
    "            return len(s)+len(t)-2+ (s[1:]<t)*1+(s<t[1:])*1\n",
    "        elif s[0]==t[0]:\n",
    "            return (s[1:]<t)*1+(s<t[1:])*1+ remove_1(s[1:],t[1:])\n",
    "        elif s[0]>t[0]:\n",
    "            return (s[1:]<t)*1\n",
    "\n",
    "             \n"
   ]
  },
  {
   "cell_type": "code",
   "execution_count": 96,
   "metadata": {},
   "outputs": [
    {
     "output_type": "execute_result",
     "data": {
      "text/plain": [
       "5"
      ]
     },
     "metadata": {},
     "execution_count": 96
    }
   ],
   "source": [
    "remove_1('1123','123')"
   ]
  },
  {
   "cell_type": "code",
   "execution_count": 12,
   "metadata": {},
   "outputs": [],
   "source": [
    "A = [1, 2, 3, 4, 9,10]\n",
    "k = 5\n",
    "\n",
    "\n"
   ]
  },
  {
   "cell_type": "code",
   "execution_count": 13,
   "metadata": {},
   "outputs": [],
   "source": [
    "## the first cannot reach\n",
    "def get_max_size(A,k):\n",
    "    if sum(A)<k: return False\n",
    "    l,r=1,max(A)\n",
    "    while l<r:\n",
    "        mid=(l+r)//2\n",
    "        if parts(A,mid)<k:\n",
    "            r=mid\n",
    "        else:\n",
    "            l=mid+1\n",
    "    return l-1\n",
    "def parts(A,num):\n",
    "    return sum(e//num for e in A)\n"
   ]
  },
  {
   "cell_type": "code",
   "execution_count": 14,
   "metadata": {},
   "outputs": [
    {
     "output_type": "execute_result",
     "data": {
      "text/plain": [
       "4"
      ]
     },
     "metadata": {},
     "execution_count": 14
    }
   ],
   "source": [
    "get_max_size(A,k)"
   ]
  },
  {
   "cell_type": "code",
   "execution_count": 31,
   "metadata": {},
   "outputs": [],
   "source": [
    "a = [0,4,8,20,24,26]\n",
    "b = [5,7,12,16,22]"
   ]
  },
  {
   "cell_type": "code",
   "execution_count": 32,
   "metadata": {},
   "outputs": [],
   "source": [
    "max_gap= max(a1-a0 for a0,a1 in zip(a,a[1:]))\n",
    "max_size=-1\n",
    "for i in range(1,max_gap):\n",
    "    max_size=max(max_size,get_increase_size(i))\n",
    "\n",
    "    \n"
   ]
  },
  {
   "cell_type": "code",
   "execution_count": 33,
   "metadata": {},
   "outputs": [
    {
     "output_type": "execute_result",
     "data": {
      "text/plain": [
       "-1"
      ]
     },
     "metadata": {},
     "execution_count": 33
    }
   ],
   "source": [
    "max_size"
   ]
  },
  {
   "cell_type": "code",
   "execution_count": 25,
   "metadata": {},
   "outputs": [],
   "source": [
    "def get_increase_size(gap=1):\n",
    "    b_set=set(b)\n",
    "    small=a[0]\n",
    "    a_set=set(a[1:])\n",
    "    size=1\n",
    "    while len(a_set):\n",
    "        small+=gap\n",
    "        if small in a_set:\n",
    "            a_set.remove(small)\n",
    "            size+=1\n",
    "        elif small in b_set:\n",
    "            b_set.remove(small)\n",
    "            size+=1\n",
    "        else:\n",
    "            return -1\n",
    "    while len(b_set):\n",
    "        if small in b_set:\n",
    "            b_set.remove(small)\n",
    "            small+=gap\n",
    "        else:\n",
    "            break\n",
    "    return size"
   ]
  },
  {
   "cell_type": "code",
   "execution_count": 34,
   "metadata": {},
   "outputs": [],
   "source": [
    "def reverse_by_pairs(string='123'):\n",
    "    if len(string)>=2:\n",
    "        return string[:2][::-1]+reverse_by_pairs(string[2:])\n",
    "    else:\n",
    "        return string"
   ]
  },
  {
   "cell_type": "code",
   "execution_count": 37,
   "metadata": {},
   "outputs": [
    {
     "output_type": "execute_result",
     "data": {
      "text/plain": [
       "'214365'"
      ]
     },
     "metadata": {},
     "execution_count": 37
    }
   ],
   "source": [
    "reverse_by_pairs('123456')"
   ]
  },
  {
   "cell_type": "code",
   "execution_count": null,
   "metadata": {},
   "outputs": [],
   "source": [
    "1234 41234"
   ]
  },
  {
   "cell_type": "code",
   "execution_count": 66,
   "metadata": {},
   "outputs": [],
   "source": [
    "## 18 make s<t\n",
    "def remove_1(s,t):\n",
    "    if len(t)==0: return 0\n",
    "    elif len(t)>=1: \n",
    "        if not s: return  len(t)\n",
    "        elif s[0]==t[0]:  return remove_1(s[1:],t[1:])\n",
    "        elif s[0]<t[0]: return len(s)-1+len(t)-1+(s[1:]<t)*1+(s<t[1:])*1\n",
    "        else: return (s[1:]>t)*1\n",
    "\n",
    "\n",
    "\n"
   ]
  },
  {
   "cell_type": "code",
   "execution_count": 68,
   "metadata": {},
   "outputs": [
    {
     "output_type": "execute_result",
     "data": {
      "text/plain": [
       "5"
      ]
     },
     "metadata": {},
     "execution_count": 68
    }
   ],
   "source": [
    "remove_1('123','1341')"
   ]
  },
  {
   "cell_type": "code",
   "execution_count": 48,
   "metadata": {},
   "outputs": [],
   "source": [
    "a=[i for i in range(1,10)]\n",
    "k=3\n",
    "ans=[]\n",
    "curp=0\n",
    "while a:\n",
    "    cur_len=len(a)\n",
    "    while cur_len<k+curp-1:\n",
    "        cur_len+=len(a)\n",
    "    else:\n",
    "        curp= (curp+k-1)%len(a)\n",
    "        ans.append(a.pop(curp))\n"
   ]
  },
  {
   "cell_type": "code",
   "execution_count": 80,
   "metadata": {},
   "outputs": [
    {
     "output_type": "stream",
     "name": "stdout",
     "text": [
      "#\n1\na\n2\np\n4\nl\n5\ne\n6\na1p2l1e1\n"
     ]
    }
   ],
   "source": [
    "## charactor count\n",
    "a='apple'\n",
    "a+='#'\n",
    "i=0\n",
    "prev='#'\n",
    "ans=''\n",
    "while i<len(a):\n",
    "    count=1\n",
    "    while i<len(a) and a[i]==prev:\n",
    "        count+=1\n",
    "        i+=1\n",
    "    else:\n",
    "        print(prev)\n",
    "        ans+= prev+ str(count)\n",
    "        prev=a[i]\n",
    "        i+=1\n",
    "    print(i)\n",
    "print(ans[2:])"
   ]
  },
  {
   "cell_type": "code",
   "execution_count": null,
   "metadata": {},
   "outputs": [],
   "source": []
  }
 ]
}