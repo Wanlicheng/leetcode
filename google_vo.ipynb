{
 "cells": [
  {
   "cell_type": "raw",
   "id": "floppy-arabic",
   "metadata": {},
   "source": [
    "\n",
    "\n",
    "3.  Given a integer range. could be negative integers. Caculate how many integers in this range which binary representation (64 bits at most) has N 1s when N is some Fibonacci number.\n",
    "     don`t use library function to caculate binary representation. Digit DP in O(1)?\n",
    "4.  Assume an array A, at first, you have no information about A. there will be some queris <start, end, odd/even> in sequence. each query means: A[start:end+1] is odd/even. Detect the first conflict.\n",
    "     Example:  <2, 14, odd>, <8, 14, even>, <2, 7, even>. when first and second comes in, we know 2->7 has to be odd-even=odd. \n",
    "     but when the third comes in, it is even (conflict with existing information about A)\n",
    "5.  N objects 1 -> N in a 2-D grid. Given a set of rules as <first, second, left/right/up/down> (the first is on left/right/up/down of the second).\n",
    "     Return any one of possible arragement of those N objects.\n",
    "     Example: N=3, <1, 3, right>, <2, 3, right>, <1, 2, up>, <1, 2, left>, <2, 3, up>. \n",
    "     one possible result:  [\"*1*\", \"**2\", \"3**\"], * is empty.\n"
   ]
  },
  {
   "cell_type": "code",
   "execution_count": 21,
   "id": "boxed-excuse",
   "metadata": {},
   "outputs": [],
   "source": [
    "#1. Given a positive integer array. Partition it into N disjoint sets and make sure any sum of any set \n",
    "# not exceeding given target M. Return such minimal N.\n",
    "\n",
    "class min_num_set():\n",
    "    def get_min_set(self,M,array):\n",
    "        self.N=float('inf')\n",
    "        #N is the min number of set\n",
    "        if max(array)>M:\n",
    "            return -1\n",
    "        def bt(i=0,cur_set=[]):\n",
    "            \n",
    "            if len(cur_set)>=self.N: return\n",
    "            if i==len(array):\n",
    "                #print(cur_set)\n",
    "                self.N=min(self.N,len(cur_set))\n",
    "                return\n",
    "            for idx,cur in enumerate(cur_set):\n",
    "                if cur+array[i]<=M:\n",
    "                    cur_set[idx]+=array[i]\n",
    "                    print(cur_set)\n",
    "                    bt(i+1,cur_set)\n",
    "                    \n",
    "                    cur_set[idx]-=array[i]\n",
    "                    print(cur_set)\n",
    "            cur_set.append(array[i])\n",
    "            bt(i+1,cur_set)\n",
    "            cur_set.pop()\n",
    "        bt()\n",
    "        \n",
    "        return self.N"
   ]
  },
  {
   "cell_type": "code",
   "execution_count": 23,
   "id": "regional-graphics",
   "metadata": {},
   "outputs": [
    {
     "name": "stdout",
     "output_type": "stream",
     "text": [
      "[3]\n",
      "[3, 3, 2]\n",
      "[3, 3, 3]\n",
      "[3, 3, 2]\n",
      "[3, 3, 1]\n",
      "[1]\n"
     ]
    },
    {
     "data": {
      "text/plain": [
       "3"
      ]
     },
     "execution_count": 23,
     "metadata": {},
     "output_type": "execute_result"
    }
   ],
   "source": [
    "o=min_num_set()\n",
    "o.get_min_set(3,[1,2,3,1,1,1])"
   ]
  },
  {
   "cell_type": "code",
   "execution_count": 31,
   "id": "common-celtic",
   "metadata": {},
   "outputs": [],
   "source": [
    "#2. Given List<String> A. len(A) very large. A lot of queries with String target against all strings in A. \n",
    "#    Return all strings in A with target as substring. \n",
    "# Results order: supposed the queried string as B. first sort by index in B and then by B itself alphabetical order. \n",
    "# best complexity for query?\n",
    "import collections\n",
    "class Trie():\n",
    "    def __init__(self):\n",
    "        self.children=collections.defaultdict(Trie)\n",
    "        self.is_word=''\n",
    "class Solution:\n",
    "    def isSubsequence(self, string_list, t: str):\n",
    "        trie=Trie()\n",
    "        \n",
    "        for i,s in enumerate(string_list):\n",
    "            cur=trie\n",
    "            for e in s:\n",
    "                cur=cur.children[e]\n",
    "            cur.is_word=s\n",
    "            \n",
    "        trie_list=[trie]\n",
    "        \n",
    "        ans=[]\n",
    "        \n",
    "        for i,e in enumerate(t):\n",
    "            for cur in trie_list:\n",
    "                if e in cur.children:\n",
    "                    trie_list.append(cur.children[e])\n",
    "                    if cur.children[e].is_word:\n",
    "                        ans.append(cur.children[e].is_word)\n",
    "        return ans"
   ]
  },
  {
   "cell_type": "code",
   "execution_count": 32,
   "id": "fewer-block",
   "metadata": {},
   "outputs": [
    {
     "data": {
      "text/plain": [
       "['ah', 'ab', 'abc']"
      ]
     },
     "execution_count": 32,
     "metadata": {},
     "output_type": "execute_result"
    }
   ],
   "source": [
    "solu=Solution()\n",
    "solu.isSubsequence([\"abc\",'ah','ab','ch'], t = \"ahbgdc\")"
   ]
  },
  {
   "cell_type": "code",
   "execution_count": 33,
   "id": "sound-flooring",
   "metadata": {},
   "outputs": [
    {
     "data": {
      "text/plain": [
       "'\\x7f'"
      ]
     },
     "execution_count": 33,
     "metadata": {},
     "output_type": "execute_result"
    }
   ],
   "source": [
    "chr(127)"
   ]
  },
  {
   "cell_type": "code",
   "execution_count": 34,
   "id": "swedish-austria",
   "metadata": {},
   "outputs": [
    {
     "data": {
      "text/plain": [
       "'~'"
      ]
     },
     "execution_count": 34,
     "metadata": {},
     "output_type": "execute_result"
    }
   ],
   "source": [
    "chr(126)"
   ]
  },
  {
   "cell_type": "code",
   "execution_count": 35,
   "id": "standing-champion",
   "metadata": {},
   "outputs": [
    {
     "name": "stdout",
     "output_type": "stream",
     "text": [
      "\u0000 0\n",
      "\u0001 1\n",
      "\u0002 2\n",
      "\u0003 3\n",
      "\u0004 4\n",
      "\u0005 5\n",
      "\u0006 6\n",
      "\u0007 7\n",
      "\b 8\n",
      "\t 9\n",
      "\n",
      " 10\n",
      "\u000b",
      " 11\n",
      "\f",
      " 12\n",
      "\r",
      " 13\n",
      "\u000e 14\n",
      "\u000f 15\n",
      "\u0010 16\n",
      "\u0011 17\n",
      "\u0012 18\n",
      "\u0013 19\n",
      "\u0014 20\n",
      "\u0015 21\n",
      "\u0016 22\n",
      "\u0017 23\n",
      "\u0018 24\n",
      "\u0019 25\n",
      "\u001a 26\n",
      "\u001b 27\n",
      "\u001c",
      " 28\n",
      "\u001d",
      " 29\n",
      "\u001e",
      " 30\n",
      "\u001f 31\n",
      "  32\n",
      "! 33\n",
      "\" 34\n",
      "# 35\n",
      "$ 36\n",
      "% 37\n",
      "& 38\n",
      "' 39\n",
      "( 40\n",
      ") 41\n",
      "* 42\n",
      "+ 43\n",
      ", 44\n",
      "- 45\n",
      ". 46\n",
      "/ 47\n",
      "0 48\n",
      "1 49\n",
      "2 50\n",
      "3 51\n",
      "4 52\n",
      "5 53\n",
      "6 54\n",
      "7 55\n",
      "8 56\n",
      "9 57\n",
      ": 58\n",
      "; 59\n",
      "< 60\n",
      "= 61\n",
      "> 62\n",
      "? 63\n",
      "@ 64\n",
      "A 65\n",
      "B 66\n",
      "C 67\n",
      "D 68\n",
      "E 69\n",
      "F 70\n",
      "G 71\n",
      "H 72\n",
      "I 73\n",
      "J 74\n",
      "K 75\n",
      "L 76\n",
      "M 77\n",
      "N 78\n",
      "O 79\n",
      "P 80\n",
      "Q 81\n",
      "R 82\n",
      "S 83\n",
      "T 84\n",
      "U 85\n",
      "V 86\n",
      "W 87\n",
      "X 88\n",
      "Y 89\n",
      "Z 90\n",
      "[ 91\n",
      "\\ 92\n",
      "] 93\n",
      "^ 94\n",
      "_ 95\n",
      "` 96\n",
      "a 97\n",
      "b 98\n",
      "c 99\n",
      "d 100\n",
      "e 101\n",
      "f 102\n",
      "g 103\n",
      "h 104\n",
      "i 105\n",
      "j 106\n",
      "k 107\n",
      "l 108\n",
      "m 109\n",
      "n 110\n",
      "o 111\n",
      "p 112\n",
      "q 113\n",
      "r 114\n",
      "s 115\n",
      "t 116\n",
      "u 117\n",
      "v 118\n",
      "w 119\n",
      "x 120\n",
      "y 121\n",
      "z 122\n",
      "{ 123\n",
      "| 124\n",
      "} 125\n",
      "~ 126\n",
      " 127\n",
      " 128\n",
      " 129\n",
      " 130\n",
      " 131\n",
      " 132\n",
      "",
      " 133\n",
      " 134\n",
      " 135\n",
      " 136\n",
      " 137\n",
      " 138\n",
      " 139\n",
      " 140\n",
      " 141\n",
      " 142\n",
      " 143\n",
      " 144\n",
      " 145\n",
      " 146\n",
      " 147\n",
      " 148\n",
      " 149\n",
      " 150\n",
      " 151\n",
      " 152\n",
      " 153\n",
      " 154\n",
      " 155\n",
      " 156\n",
      " 157\n",
      " 158\n",
      " 159\n",
      "  160\n",
      "¡ 161\n",
      "¢ 162\n",
      "£ 163\n",
      "¤ 164\n",
      "¥ 165\n",
      "¦ 166\n",
      "§ 167\n",
      "¨ 168\n",
      "© 169\n",
      "ª 170\n",
      "« 171\n",
      "¬ 172\n",
      "­ 173\n",
      "® 174\n",
      "¯ 175\n",
      "° 176\n",
      "± 177\n",
      "² 178\n",
      "³ 179\n",
      "´ 180\n",
      "µ 181\n",
      "¶ 182\n",
      "· 183\n",
      "¸ 184\n",
      "¹ 185\n",
      "º 186\n",
      "» 187\n",
      "¼ 188\n",
      "½ 189\n",
      "¾ 190\n",
      "¿ 191\n",
      "À 192\n",
      "Á 193\n",
      "Â 194\n",
      "Ã 195\n",
      "Ä 196\n",
      "Å 197\n",
      "Æ 198\n",
      "Ç 199\n"
     ]
    }
   ],
   "source": [
    "for i in range(200):\n",
    "    print(chr(i),i)"
   ]
  },
  {
   "cell_type": "code",
   "execution_count": null,
   "id": "fatal-visibility",
   "metadata": {},
   "outputs": [],
   "source": []
  }
 ],
 "metadata": {
  "kernelspec": {
   "display_name": "Python 3",
   "language": "python",
   "name": "python3"
  },
  "language_info": {
   "codemirror_mode": {
    "name": "ipython",
    "version": 3
   },
   "file_extension": ".py",
   "mimetype": "text/x-python",
   "name": "python",
   "nbconvert_exporter": "python",
   "pygments_lexer": "ipython3",
   "version": "3.7.9"
  }
 },
 "nbformat": 4,
 "nbformat_minor": 5
}
